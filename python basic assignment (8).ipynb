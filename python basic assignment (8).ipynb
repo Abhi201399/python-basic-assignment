{
 "cells": [
  {
   "cell_type": "raw",
   "id": "12837911-af6a-4e0c-9ec0-7cde031c346e",
   "metadata": {},
   "source": [
    "                                                         <PYTHON BASIC QUESTIONS & ANSWERS>"
   ]
  },
  {
   "cell_type": "raw",
   "id": "6c40fd3b-b4a5-4a21-b34e-4498c4f9de9a",
   "metadata": {},
   "source": [
    " Question 1- What is Python, and why is it popular?\n",
    " Answer:     \n",
    "    *  Python is a set of instructions that we give in the form of a Program to our computer to perform any specific task. It is a Programming language having properties like it is             interpreted, object-oriented and it is high-level too.It is used for:\n",
    "    -- web development (server-side),\n",
    "    -- software development,\n",
    "    -- mathematics,\n",
    "    -- System scripting.\n",
    "    *  Python has become one of the most popular programming languages due to      its simplicity, versatility, and powerful capabilities\n"
   ]
  },
  {
   "cell_type": "raw",
   "id": "eb382216-a7fc-4965-9d51-44f95189f109",
   "metadata": {},
   "source": [
    "Question 2.  What is an interpreter in Python?\n",
    "Answer: \n",
    "    * Interpreter is a program that converts the code a developer writes into an intermediate language, called the byte code.\n",
    "      An interpreter in Python is a program that executes  Python code line by line, translating it into machine-readable bytecode\n",
    "      and allowing for immediate execution of commands."
   ]
  },
  {
   "cell_type": "raw",
   "id": "b5b7123c-581b-49d2-a07f-fb5b1d181826",
   "metadata": {},
   "source": [
    "Question 3. What are pre-defined keywords in Python?\n",
    "Answer: \n",
    "    - Variables/identifiers >>placeholders where we keep variety of data which\n",
    "      we can use to write logic\n",
    "    - Numbers>> integers/float\n",
    "    - characters>> string in python\n",
    "    - True/False >> boolean\n",
    "    - None\n",
    "    - complex"
   ]
  },
  {
   "cell_type": "raw",
   "id": "0a530098-30df-4052-98c3-ce5bb87930d3",
   "metadata": {},
   "source": [
    "Question 4. Can keywords be used as variable name?\n",
    "Answer:\n",
    "    - Keywords define the language's syntax rules and structure, and they cannot be used as variable names.\n"
   ]
  },
  {
   "cell_type": "raw",
   "id": "453c914e-d774-4e69-980c-2a4c4535eaf1",
   "metadata": {},
   "source": [
    "Question 5.  What is mutability in Python?\n",
    "Answer:\n",
    "  - Objects/container whose state or value can be changed after they are created are called as mutable objects or container, also called a item assignment.list is a type of mutable           object/supports item assignment./YOU CAN EDIT after created \n"
   ]
  },
  {
   "cell_type": "markdown",
   "id": "9fc66a33-297f-4153-a507-41298e3ef34a",
   "metadata": {},
   "source": [
    "Question 6. Why are lists mutable, but tuples are immutable ?\n",
    "Answer: \n",
    " - Lists allow direct modification of their elements.while Tuples do not support item assignment, making them immutable.This prevents unintended modifications."
   ]
  },
  {
   "cell_type": "raw",
   "id": "9bd5c437-dc6f-4ddb-a907-dec3077b1c02",
   "metadata": {},
   "source": [
    "Question 7. What is the difference between “==” and “is” operators in Python?\n",
    "Answer:\n",
    "  - In Python, both \"is\" and \"==\" are used for comparisons, but they serve        different purposes and are used in different contexts.\n",
    "     The\"==\" operator is used to compare the values of two objects. It checks whether the values of the objects are equal.\n",
    "     This operator calls the __eq__() method of the left object to determine equality. \n",
    "  - The \"is\" operator is used to compare the identity of two objects. It checks whether the two variables point to the same object in memory.\n",
    "    This operator is often used to check if a variable is None.\n",
    "    For example:\n",
    "\n"
   ]
  },
  {
   "cell_type": "code",
   "execution_count": 1,
   "id": "7a094784-f3f5-4e83-b478-a3d5691c56a7",
   "metadata": {},
   "outputs": [
    {
     "name": "stdout",
     "output_type": "stream",
     "text": [
      "True\n"
     ]
    }
   ],
   "source": [
    "#== operators \n",
    "a = 10\n",
    "b = 10\n",
    "print(a == b) "
   ]
  },
  {
   "cell_type": "raw",
   "id": "b9ca29c6-6aa7-44c9-8012-1174fcd17b60",
   "metadata": {},
   "source": [
    "In this case, a and b have the same value, so a == b returns True.\n"
   ]
  },
  {
   "cell_type": "code",
   "execution_count": 2,
   "id": "2f4f7b36-23c3-4bf8-94e5-26776c87dd4b",
   "metadata": {},
   "outputs": [
    {
     "name": "stdout",
     "output_type": "stream",
     "text": [
      "False\n"
     ]
    }
   ],
   "source": [
    "#is operators \n",
    "a = 8\n",
    "b = 10\n",
    "print(a is b)"
   ]
  },
  {
   "cell_type": "raw",
   "id": "3045df36-125c-4451-9dea-35449e6ee5b1",
   "metadata": {},
   "source": [
    " Output: False\n",
    "Here, a and b are two different empty lists, so a is b returns False."
   ]
  },
  {
   "cell_type": "markdown",
   "id": "2c195f58-195b-4bd5-af7a-e36e76823d70",
   "metadata": {},
   "source": [
    "Question 8- What are logical operators in Python?\n",
    " Answer: \n",
    "   -Logical operators in Python are used to combine conditional statements,allowing you to perform operations based on multiple conditions. These operators are essential for controlling     the flow of a program and making decisions based on various conditions.\n",
    "\n",
    "   < Python has three logical operators: and, or, and not.>\n",
    "  "
   ]
  },
  {
   "cell_type": "raw",
   "id": "00aab0de-7a48-49e3-bd26-b2d6557fdd17",
   "metadata": {},
   "source": [
    "Question 9- What is type casting in Python?\n",
    "Answer: \n",
    "   - Type casting/type conversion>> The process of changing the data type of a value/object."
   ]
  },
  {
   "cell_type": "raw",
   "id": "9dd46b98-978f-4997-91b9-bea4a5c961d7",
   "metadata": {},
   "source": [
    "Question 10-What is the difference between implicit and explicit type casting?\n",
    "Answer: \n",
    "  - Explicit type conversion in programming is done manually by the programmer, while implicit conversion is handled automatically by the compiler."
   ]
  },
  {
   "cell_type": "raw",
   "id": "a4d133da-cf35-4766-97d9-c798b44866df",
   "metadata": {},
   "source": [
    "Question 11- What is the purpose of conditional statements in Python?\n",
    "Answer:\n",
    " - Conditional statements >> helps you to code decisions based on some preconditions\n",
    "   #if\n",
    "   #if else\n",
    "   #if elif(elseif) else\n",
    "   #nested if else.\n"
   ]
  },
  {
   "cell_type": "raw",
   "id": "c60ec9d5-4667-4e20-8f8f-468c1c163f07",
   "metadata": {},
   "source": [
    "Question 12-How does the elif statement work?\n",
    "Answer:\n",
    "    -The elif statement is useful when you need to check multiple conditions. It can be used between an if and an else statement.\n",
    "  \n",
    "   price = 100\n",
    "\n",
    "   if price > 100:\n",
    "     print(\"price is greater than 100\")\n",
    "     elif price == 100:\n",
    "     print(\"price is 100\")\n",
    "     else:\n",
    "    print(\"price is less than 100\")\n"
   ]
  },
  {
   "cell_type": "raw",
   "id": "8459ea53-149b-48ed-946d-b12e0cc169ec",
   "metadata": {},
   "source": [
    "Question 13-What is the difference between for and while loops?\n",
    "Answer: \n",
    "    - A for loop is used to iterate over a sequence of items, such as a list, tuple, string, or range. It is ideal when you know the number of iterations in advance or when you want to        iterate over a collection of elements.\n",
    "\n",
    "    - A while loop is used to repeatedly execute a block of statements as long as a condition is true. It is suitable for scenarios where the number of iterations is not known in              advance  or when you want to repeat a block of code until a certain condition is met.\n"
   ]
  },
  {
   "cell_type": "raw",
   "id": "4f147f4d-9e87-428d-aa43-4442fab4bc92",
   "metadata": {},
   "source": [
    "Question 14- Describe a scenario where a while loop is more suitable than a for loop.?\n",
    "Answer:\n",
    "   - Scenario:\n",
    "Imagine a program that needs to keep reading user input until a specific pattern is entered, such as \"done\" or a specific number. A for loop wouldn't work well because it would process a fixed number of items regardless of whether the user has entered the required pattern. A while loop, on the other hand, would continuously run until the user enters the correct input, making it a more suitable choice. \n"
   ]
  },
  {
   "cell_type": "code",
   "execution_count": null,
   "id": "10303a37-9d1b-4058-8708-5fc1fdc8d64e",
   "metadata": {},
   "outputs": [],
   "source": [
    "let userInput;\n",
    "while (userInput !== \"done\") {\n",
    "  userInput = prompt(\"Enter 'done' to finish:\");\n",
    "}\n",
    "\n",
    "console.log(\"Loop finished because user entered 'done'.\");"
   ]
  },
  {
   "cell_type": "raw",
   "id": "198260d6-037b-4334-936e-aaac1c2d4721",
   "metadata": {},
   "source": [
    "In this scenario, the loop continues to run as long as the user's input is not \"done\", making it a dynamic process. A for loop wouldn't be able to accommodate this dynamic condition effectively"
   ]
  },
  {
   "cell_type": "raw",
   "id": "26737eb7-342e-486e-ae6d-d84d24fdd8fa",
   "metadata": {},
   "source": [
    "                                    <PRACTICAL QUESTIONS & ANSWERS>"
   ]
  },
  {
   "cell_type": "raw",
   "id": "81366965-1e4b-472a-b54e-4307d71fd464",
   "metadata": {},
   "source": [
    "Question 1- Write a Python program to print \"Hello, World!\"."
   ]
  },
  {
   "cell_type": "code",
   "execution_count": 3,
   "id": "ab5f5a95-61a0-4cc6-bcde-928fe3df42ab",
   "metadata": {},
   "outputs": [
    {
     "name": "stdout",
     "output_type": "stream",
     "text": [
      "Hello ,World!\n"
     ]
    }
   ],
   "source": [
    "print (\"Hello ,World!\")"
   ]
  },
  {
   "cell_type": "raw",
   "id": "dad43340-1560-41d3-94a1-07a67ea86dc5",
   "metadata": {},
   "source": [
    "Question 2- Write a Python program that displays your name and age."
   ]
  },
  {
   "cell_type": "code",
   "execution_count": 4,
   "id": "04421569-61d0-4f60-b02d-62ead5743c02",
   "metadata": {},
   "outputs": [
    {
     "name": "stdout",
     "output_type": "stream",
     "text": [
      "my name is: abhishek kumar\n",
      "my age is : 22\n"
     ]
    }
   ],
   "source": [
    "name = \"abhishek kumar\"\n",
    "age = 22\n",
    "print (\"my name is:\" , name)\n",
    "print (\"my age is :\" , age)\n"
   ]
  },
  {
   "cell_type": "raw",
   "id": "f7c9cac6-f4c5-4299-94d4-9435b41c1d78",
   "metadata": {},
   "source": [
    "Question 3- Write code to print all the pre-defined keywords in Python using the keyword library."
   ]
  },
  {
   "cell_type": "code",
   "execution_count": 5,
   "id": "18c07272-48ee-4784-90a1-06fbc3af40cf",
   "metadata": {},
   "outputs": [
    {
     "name": "stdout",
     "output_type": "stream",
     "text": [
      "\n",
      "Here is a list of the Python keywords.  Enter any keyword to get more help.\n",
      "\n",
      "False               class               from                or\n",
      "None                continue            global              pass\n",
      "True                def                 if                  raise\n",
      "and                 del                 import              return\n",
      "as                  elif                in                  try\n",
      "assert              else                is                  while\n",
      "async               except              lambda              with\n",
      "await               finally             nonlocal            yield\n",
      "break               for                 not                 \n",
      "\n"
     ]
    }
   ],
   "source": [
    "help(\"keywords\")"
   ]
  },
  {
   "cell_type": "raw",
   "id": "e70d85a5-a5ed-454b-a4d9-9f78133cdf8f",
   "metadata": {},
   "source": [
    "Question 4- Write a program that checks if a given word is a Python keyword."
   ]
  },
  {
   "cell_type": "code",
   "execution_count": 6,
   "id": "4630f650-a237-4fdc-b7e7-3acaa821cd37",
   "metadata": {},
   "outputs": [
    {
     "ename": "NameError",
     "evalue": "name 'keyword' is not defined",
     "output_type": "error",
     "traceback": [
      "\u001b[1;31m---------------------------------------------------------------------------\u001b[0m",
      "\u001b[1;31mNameError\u001b[0m                                 Traceback (most recent call last)",
      "Cell \u001b[1;32mIn[6], line 2\u001b[0m\n\u001b[0;32m      1\u001b[0m \u001b[38;5;66;03m#if a given word is a Python keyword\u001b[39;00m\n\u001b[1;32m----> 2\u001b[0m keyword\u001b[38;5;241m.\u001b[39miskeyword(\u001b[38;5;124m\"\u001b[39m\u001b[38;5;124mif\u001b[39m\u001b[38;5;124m\"\u001b[39m)\n",
      "\u001b[1;31mNameError\u001b[0m: name 'keyword' is not defined"
     ]
    }
   ],
   "source": [
    " #if a given word is a Python keyword\n",
    "keyword.iskeyword(\"if\")\n"
   ]
  },
  {
   "cell_type": "raw",
   "id": "e29cab0f-4d87-4441-b399-aa73dc5a06d9",
   "metadata": {},
   "source": [
    "Question 5-Create a list and tuple in Python, and demonstrate how attempting to change an element works differently \n",
    "        for each."
   ]
  },
  {
   "cell_type": "code",
   "execution_count": null,
   "id": "a30c04af-5eaf-4e88-81fd-b06baeba03ef",
   "metadata": {},
   "outputs": [],
   "source": [
    " # list \n",
    "list_cont = [1,5,8,3+6j,True,\"Aman\"]\n",
    "list_cont"
   ]
  },
  {
   "cell_type": "code",
   "execution_count": null,
   "id": "227e28cc-710a-4e6e-a48a-1b9f5e6e4f92",
   "metadata": {},
   "outputs": [],
   "source": [
    "list_cont[-1]"
   ]
  },
  {
   "cell_type": "code",
   "execution_count": null,
   "id": "06e5ccb5-39b3-4558-9c89-e323c380e0e3",
   "metadata": {},
   "outputs": [],
   "source": [
    "list_cont[5]= \"bijay\"\n",
    "list_cont"
   ]
  },
  {
   "cell_type": "code",
   "execution_count": null,
   "id": "69dcb76b-ecb2-43e2-b172-66c8b972c5f3",
   "metadata": {},
   "outputs": [],
   "source": [
    "type(list_cont)"
   ]
  },
  {
   "cell_type": "code",
   "execution_count": null,
   "id": "a340eaf2-bfb2-4d30-8b23-76a857e1b528",
   "metadata": {},
   "outputs": [],
   "source": [
    "# tuple\n",
    "c=\"abhishek\"\n",
    "c"
   ]
  },
  {
   "cell_type": "code",
   "execution_count": null,
   "id": "7df3419d-98e3-44ff-aa6d-7ff70efed048",
   "metadata": {},
   "outputs": [],
   "source": [
    "c[0]=\"i\""
   ]
  },
  {
   "cell_type": "code",
   "execution_count": null,
   "id": "a4aea186-0878-4097-9736-4c1bef4e687a",
   "metadata": {},
   "outputs": [],
   "source": [
    "c[-2]=\"l\""
   ]
  },
  {
   "cell_type": "raw",
   "id": "11c63d20-2bbc-4351-b7cc-03db95a30fda",
   "metadata": {},
   "source": [
    "Question 6-Write a function to demonstrate the behavior of mutable and immutable arguments.\n"
   ]
  },
  {
   "cell_type": "code",
   "execution_count": null,
   "id": "8301c489-d0b4-48a2-bc26-5efa0c86bd31",
   "metadata": {},
   "outputs": [],
   "source": [
    "# Python code to test that \n",
    "# tuples are immutable \n",
    "  \n",
    "tuple1 = (0, 1, 2, 3) \n",
    "tuple1[0] = 4\n",
    "print(tuple1) \n"
   ]
  },
  {
   "cell_type": "code",
   "execution_count": 5,
   "id": "216c0946-26e7-4ebd-925f-e97d443bf4b7",
   "metadata": {},
   "outputs": [
    {
     "ename": "TypeError",
     "evalue": "'str' object does not support item assignment",
     "output_type": "error",
     "traceback": [
      "\u001b[1;31m---------------------------------------------------------------------------\u001b[0m",
      "\u001b[1;31mTypeError\u001b[0m                                 Traceback (most recent call last)",
      "Cell \u001b[1;32mIn[5], line 5\u001b[0m\n\u001b[0;32m      1\u001b[0m \u001b[38;5;66;03m# Python code to test that \u001b[39;00m\n\u001b[0;32m      2\u001b[0m \u001b[38;5;66;03m# strings are immutable \u001b[39;00m\n\u001b[0;32m      4\u001b[0m message \u001b[38;5;241m=\u001b[39m \u001b[38;5;124m\"\u001b[39m\u001b[38;5;124mWelcome to GeeksforGeeks\u001b[39m\u001b[38;5;124m\"\u001b[39m\n\u001b[1;32m----> 5\u001b[0m message[\u001b[38;5;241m0\u001b[39m] \u001b[38;5;241m=\u001b[39m \u001b[38;5;124m'\u001b[39m\u001b[38;5;124mp\u001b[39m\u001b[38;5;124m'\u001b[39m\n\u001b[0;32m      6\u001b[0m \u001b[38;5;28mprint\u001b[39m(message)\n",
      "\u001b[1;31mTypeError\u001b[0m: 'str' object does not support item assignment"
     ]
    }
   ],
   "source": [
    "# Python code to test that \n",
    "# strings are immutable \n",
    "\n",
    "message = \"Welcome to GeeksforGeeks\"\n",
    "message[0] = 'p'\n",
    "print(message)\n"
   ]
  },
  {
   "cell_type": "code",
   "execution_count": 6,
   "id": "33e02c85-9844-4887-a6ae-cca86ffff738",
   "metadata": {},
   "outputs": [
    {
     "name": "stdout",
     "output_type": "stream",
     "text": [
      "[1, 2, 3, 4]\n",
      "[1, 5, 2, 3, 4]\n",
      "[1, 5, 3, 4]\n",
      "[5, 3, 4]\n",
      "1\n"
     ]
    }
   ],
   "source": [
    "my_list = [1, 2, 3]\n",
    "my_list.append(4)\n",
    "print(my_list) \n",
    "\n",
    "my_list.insert(1, 5)\n",
    "print(my_list) \n",
    "\n",
    "my_list.remove(2)\n",
    "print(my_list) \n",
    "\n",
    "popped_element = my_list.pop(0)\n",
    "print(my_list)         \n",
    "print(popped_element)  \n"
   ]
  },
  {
   "cell_type": "code",
   "execution_count": 7,
   "id": "e8d4b9c6-4ddd-4e5a-b810-05340e497c1b",
   "metadata": {},
   "outputs": [
    {
     "name": "stdout",
     "output_type": "stream",
     "text": [
      "{'name': 'Ram', 'age': 37}\n",
      "{'name': 'Ram', 'age': 37}\n"
     ]
    }
   ],
   "source": [
    "my_dict = {\"name\": \"Ram\", \"age\": 25}\n",
    "new_dict = my_dict\n",
    "new_dict[\"age\"] = 37\n",
    "\n",
    "print(my_dict)   \n",
    "print(new_dict)\n"
   ]
  },
  {
   "cell_type": "raw",
   "id": "77bc991d-2513-4be6-b032-6fc2e5fdd123",
   "metadata": {},
   "source": [
    "Question 7- Write a program that performs basic arithmetic operations on two user-input numbers.\n",
    "    "
   ]
  },
  {
   "cell_type": "code",
   "execution_count": null,
   "id": "eac3125c-4c48-4e95-8a78-835add062be9",
   "metadata": {},
   "outputs": [],
   "source": [
    "# Function to perform basic arithmetic operations\n",
    "def arithmetic_operations(num1, num2):\n",
    "    addition = num1 + num2\n",
    "    subtraction = num1 - num2\n",
    "    multiplication = num1 * num2\n",
    "    division = num1 / num2 if num2 != 0 else \"undefined (division by zero)\"\n",
    "    "
   ]
  },
  {
   "cell_type": "code",
   "execution_count": null,
   "id": "cf181902-fab2-4622-9e96-11cc394c10b3",
   "metadata": {},
   "outputs": [],
   "source": [
    "a=5\n",
    "b=7\n",
    "add=a+b\n",
    "add"
   ]
  },
  {
   "cell_type": "code",
   "execution_count": null,
   "id": "62e4ddae-ff7a-48fe-85f6-5f1ced3c4ec1",
   "metadata": {},
   "outputs": [],
   "source": [
    "=a-b"
   ]
  },
  {
   "cell_type": "code",
   "execution_count": null,
   "id": "d1e7a6ea-5f59-49e8-b342-b8aaa531a06e",
   "metadata": {},
   "outputs": [],
   "source": [
    "a/b"
   ]
  },
  {
   "cell_type": "code",
   "execution_count": null,
   "id": "35ddb6e1-8e1a-4d42-ad31-2267ff23392d",
   "metadata": {},
   "outputs": [],
   "source": [
    "a*b"
   ]
  },
  {
   "cell_type": "raw",
   "id": "c157b6b9-0ddb-4a3e-9b8f-68494e39a57c",
   "metadata": {},
   "source": [
    "Question 8- Write a program to demonstrate the use of logical operators."
   ]
  },
  {
   "cell_type": "code",
   "execution_count": null,
   "id": "bcb4460c-7470-4832-89fd-15a465b630e9",
   "metadata": {},
   "outputs": [],
   "source": [
    "#logical operator\n",
    "#and\n",
    "#or\n",
    "#not\n",
    "True or False\n"
   ]
  },
  {
   "cell_type": "code",
   "execution_count": null,
   "id": "0be1b37c-c8b8-477a-9ed3-d79a418bfdaf",
   "metadata": {},
   "outputs": [],
   "source": [
    "True and False"
   ]
  },
  {
   "cell_type": "code",
   "execution_count": null,
   "id": "fee8494b-2964-4649-8d46-8324122e89c2",
   "metadata": {},
   "outputs": [],
   "source": [
    "not False"
   ]
  },
  {
   "cell_type": "raw",
   "id": "8af79d5f-0b3e-4d00-b2af-06faad81f4ea",
   "metadata": {},
   "source": [
    "Question 9- Write a Python program to convert user input from string to integer, float, and boolean types\n",
    "\n"
   ]
  },
  {
   "cell_type": "code",
   "execution_count": 3,
   "id": "06ea6ec3-9319-46c9-8953-6d19d9ea1a31",
   "metadata": {},
   "outputs": [
    {
     "data": {
      "text/plain": [
       "12"
      ]
     },
     "execution_count": 3,
     "metadata": {},
     "output_type": "execute_result"
    }
   ],
   "source": [
    "a =\"8\"\n",
    "b = 4\n",
    "#string to integer\n",
    "int(a)+b\n"
   ]
  },
  {
   "cell_type": "code",
   "execution_count": 4,
   "id": "2fb05bad-da12-4acb-ac80-6701c08c412b",
   "metadata": {},
   "outputs": [
    {
     "data": {
      "text/plain": [
       "8.0"
      ]
     },
     "execution_count": 4,
     "metadata": {},
     "output_type": "execute_result"
    }
   ],
   "source": [
    "#string to float\n",
    "float(a)"
   ]
  },
  {
   "cell_type": "code",
   "execution_count": 8,
   "id": "51f324c3-2f55-4547-b38b-b827b9d27337",
   "metadata": {},
   "outputs": [
    {
     "data": {
      "text/plain": [
       "True"
      ]
     },
     "execution_count": 8,
     "metadata": {},
     "output_type": "execute_result"
    }
   ],
   "source": [
    "#string to boolean types\n",
    "bool(a)"
   ]
  },
  {
   "cell_type": "raw",
   "id": "22ffa1e0-7455-4134-8dbb-4c1a25eb0795",
   "metadata": {},
   "source": [
    "Question 10- Write code to demonstrate type casting with list elements.\n"
   ]
  },
  {
   "cell_type": "code",
   "execution_count": 2,
   "id": "635f3e30-80a5-4441-856c-f3df145f41c3",
   "metadata": {},
   "outputs": [
    {
     "ename": "TypeError",
     "evalue": "can only concatenate str (not \"int\") to str",
     "output_type": "error",
     "traceback": [
      "\u001b[1;31m---------------------------------------------------------------------------\u001b[0m",
      "\u001b[1;31mTypeError\u001b[0m                                 Traceback (most recent call last)",
      "Cell \u001b[1;32mIn[2], line 3\u001b[0m\n\u001b[0;32m      1\u001b[0m a \u001b[38;5;241m=\u001b[39m \u001b[38;5;124m\"\u001b[39m\u001b[38;5;124m8\u001b[39m\u001b[38;5;124m\"\u001b[39m\n\u001b[0;32m      2\u001b[0m b \u001b[38;5;241m=\u001b[39m \u001b[38;5;241m5\u001b[39m\n\u001b[1;32m----> 3\u001b[0m a\u001b[38;5;241m+\u001b[39mb\n",
      "\u001b[1;31mTypeError\u001b[0m: can only concatenate str (not \"int\") to str"
     ]
    }
   ],
   "source": [
    "a = \"8\"\n",
    "b = 5\n",
    "a+b\n"
   ]
  },
  {
   "cell_type": "code",
   "execution_count": 3,
   "id": "27f10158-4ec9-42ff-ac28-f63c937e6fb2",
   "metadata": {},
   "outputs": [
    {
     "data": {
      "text/plain": [
       "str"
      ]
     },
     "execution_count": 3,
     "metadata": {},
     "output_type": "execute_result"
    }
   ],
   "source": [
    "type (a)"
   ]
  },
  {
   "cell_type": "code",
   "execution_count": 4,
   "id": "d6553294-21de-4362-8126-83c19c86ac4d",
   "metadata": {},
   "outputs": [
    {
     "data": {
      "text/plain": [
       "13"
      ]
     },
     "execution_count": 4,
     "metadata": {},
     "output_type": "execute_result"
    }
   ],
   "source": [
    "int(a)+b"
   ]
  },
  {
   "cell_type": "code",
   "execution_count": 5,
   "id": "4fdc29d3-82fc-425f-95a1-1cf43fc9074f",
   "metadata": {},
   "outputs": [
    {
     "name": "stdout",
     "output_type": "stream",
     "text": [
      "<class 'str'>\n",
      "<class 'int'>\n"
     ]
    }
   ],
   "source": [
    "#string to integer\n",
    "a = \"2\"\n",
    "print(type(a))\n",
    "print(type(int(a)))"
   ]
  },
  {
   "cell_type": "code",
   "execution_count": null,
   "id": "db95b8e9-049b-4c12-954a-2c6062e2213a",
   "metadata": {},
   "outputs": [],
   "source": [
    "Question 11-Write a program that checks if a number is positive, negative, or zero.\n",
    "\n",
    "# Function to check if a number is positive, negative, or zero\n",
    "def check_number(num):\n",
    "    if num > 0:\n",
    "        return \"The number is positive.\"\n",
    "    elif num < 0:\n",
    "        return \"The number is negative.\"\n",
    "    else:\n",
    "        return \"The number is zero.\"\n"
   ]
  },
  {
   "cell_type": "raw",
   "id": "987f42aa-8ac6-43ce-94e8-992996ca9226",
   "metadata": {},
   "source": [
    "Question 12- Write a for loop to print numbers from 1 to 10."
   ]
  },
  {
   "cell_type": "code",
   "execution_count": 1,
   "id": "16e413b3-f2e0-44d9-8750-4999e494763e",
   "metadata": {},
   "outputs": [
    {
     "name": "stdout",
     "output_type": "stream",
     "text": [
      "Print integers 1 to 10 using for loop:\n",
      "1\n",
      "2\n",
      "3\n",
      "4\n",
      "5\n",
      "6\n",
      "7\n",
      "8\n",
      "9\n",
      "10\n"
     ]
    }
   ],
   "source": [
    "  #print(\"Print integers 1 to 10 using for loop:\")\n",
    "for i in range(1, 11): # iterates for 10 times\n",
    "    print(i)"
   ]
  },
  {
   "cell_type": "code",
   "execution_count": 7,
   "id": "7b311f70-96b5-4374-8b39-849ef7955f88",
   "metadata": {},
   "outputs": [
    {
     "name": "stdout",
     "output_type": "stream",
     "text": [
      "1\n",
      "2\n",
      "3\n",
      "4\n",
      "5\n",
      "6\n",
      "7\n",
      "8\n",
      "9\n",
      "10\n"
     ]
    }
   ],
   "source": [
    "n=11\n",
    "i=1\n",
    "while i<n:\n",
    "    print(i)\n",
    "    i= i+1\n",
    "    "
   ]
  },
  {
   "cell_type": "raw",
   "id": "4e385f37-d434-44d3-85ab-44feb5d678f1",
   "metadata": {},
   "source": [
    "Question 13- Write a Python program to find the sum of all even numbers between 1 and 50."
   ]
  },
  {
   "cell_type": "code",
   "execution_count": 5,
   "id": "4da725e7-2858-4743-a542-4b741dd261a5",
   "metadata": {},
   "outputs": [
    {
     "name": "stdout",
     "output_type": "stream",
     "text": [
      "The sum of even numbers between 1 and 50 is: 650\n"
     ]
    }
   ],
   "source": [
    "sum_even = 0\n",
    "for number in range(2, 51, 2):\n",
    "    sum_even += number\n",
    "\n",
    "print(f\"The sum of even numbers between 1 and 50 is: {sum_even}\")"
   ]
  },
  {
   "cell_type": "raw",
   "id": "895bb919-6e9f-4f71-a765-0cead2c11235",
   "metadata": {},
   "source": [
    "Question 14- Write a program to reverse a string using a while loop."
   ]
  },
  {
   "cell_type": "code",
   "execution_count": 9,
   "id": "8c1f5175-4c80-4b57-b5fb-c311fa18e730",
   "metadata": {},
   "outputs": [
    {
     "name": "stdout",
     "output_type": "stream",
     "text": [
      "Original string: Hello, World!\n",
      "Reversed string: !dlroW ,olleH\n"
     ]
    }
   ],
   "source": [
    "#a program to reverse a string using a while loop: \n",
    "input_string = \"Hello, World!\"\n",
    "reversed_string = reverse_string(input_string)\n",
    "print(f\"Original string: {input_string}\")\n",
    "print(f\"Reversed string: {reversed_string}\")"
   ]
  },
  {
   "cell_type": "raw",
   "id": "df8435ba-863a-44ad-8fa7-17813a236fa3",
   "metadata": {},
   "source": [
    "Question 15- Write a Python program to calculate the factorial of a number provided by the user using a while loop."
   ]
  },
  {
   "cell_type": "code",
   "execution_count": 1,
   "id": "667fa988-5eeb-42d2-a328-9baaa6bccd5b",
   "metadata": {},
   "outputs": [
    {
     "name": "stdin",
     "output_type": "stream",
     "text": [
      "Enter any number:  5\n"
     ]
    },
    {
     "name": "stdout",
     "output_type": "stream",
     "text": [
      "Factorial is 120\n"
     ]
    }
   ],
   "source": [
    "# accept input number from user\n",
    "n = int(input(\"Enter any number: \"))\n",
    "\n",
    "# logic to calculate the factorial of a number\n",
    "f = 1\n",
    "while n >= 1:\n",
    "    f *= n\n",
    "    n -= 1\n",
    "\n",
    "# print output\n",
    "print(\"Factorial is\", f)"
   ]
  },
  {
   "cell_type": "code",
   "execution_count": null,
   "id": "fa65cdb0-943b-4640-8531-00099b597217",
   "metadata": {},
   "outputs": [],
   "source": []
  }
 ],
 "metadata": {
  "kernelspec": {
   "display_name": "Python 3 (ipykernel)",
   "language": "python",
   "name": "python3"
  },
  "language_info": {
   "codemirror_mode": {
    "name": "ipython",
    "version": 3
   },
   "file_extension": ".py",
   "mimetype": "text/x-python",
   "name": "python",
   "nbconvert_exporter": "python",
   "pygments_lexer": "ipython3",
   "version": "3.12.7"
  }
 },
 "nbformat": 4,
 "nbformat_minor": 5
}
